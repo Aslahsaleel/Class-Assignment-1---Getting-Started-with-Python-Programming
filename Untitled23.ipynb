{
  "nbformat": 4,
  "nbformat_minor": 0,
  "metadata": {
    "colab": {
      "name": "Untitled23.ipynb",
      "provenance": [],
      "authorship_tag": "ABX9TyOcj4C1zEh0e2QnC1ClokNc",
      "include_colab_link": true
    },
    "kernelspec": {
      "name": "python3",
      "display_name": "Python 3"
    }
  },
  "cells": [
    {
      "cell_type": "markdown",
      "metadata": {
        "id": "view-in-github",
        "colab_type": "text"
      },
      "source": [
        "<a href=\"https://colab.research.google.com/github/Aslahsaleel/Class-Assignment-1---Getting-Started-with-Python-Programming/blob/master/Untitled23.ipynb\" target=\"_parent\"><img src=\"https://colab.research.google.com/assets/colab-badge.svg\" alt=\"Open In Colab\"/></a>"
      ]
    },
    {
      "cell_type": "markdown",
      "metadata": {
        "id": "GhDS_YyJ6UST"
      },
      "source": [
        "1"
      ]
    },
    {
      "cell_type": "code",
      "metadata": {
        "colab": {
          "base_uri": "https://localhost:8080/"
        },
        "id": "fbUX-yD7yB7y",
        "outputId": "63fdda37-bc80-4af0-c4f4-bdb0dcd50947"
      },
      "source": [
        "def sum_odd(lst):\r\n",
        "  sum=0\r\n",
        "  for i in lst:\r\n",
        "    if i%2!=0:\r\n",
        "      sum+=i\r\n",
        "  print(sum)\r\n",
        "\r\n",
        "sum_odd([1,2,3,5,6,7])"
      ],
      "execution_count": 13,
      "outputs": [
        {
          "output_type": "stream",
          "text": [
            "16\n"
          ],
          "name": "stdout"
        }
      ]
    },
    {
      "cell_type": "markdown",
      "metadata": {
        "id": "-hJl-TVP6b61"
      },
      "source": [
        "2"
      ]
    },
    {
      "cell_type": "code",
      "metadata": {
        "id": "_6bpvsk0yeWO"
      },
      "source": [
        "Python pass Statement\r\n",
        "The pass statement is used as a placeholder for future code. When the pass statement is executed, nothing happens, but you avoid getting an error when empty code is not allowed. Empty code is not allowed in loops, function definitions, class definitions, or in if statements."
      ],
      "execution_count": null,
      "outputs": []
    },
    {
      "cell_type": "markdown",
      "metadata": {
        "id": "c-Emr6Sp6hYJ"
      },
      "source": [
        "3"
      ]
    },
    {
      "cell_type": "code",
      "metadata": {
        "id": "eG2U5josygBH"
      },
      "source": [
        "def same(str1,str2):\r\n",
        "  if str1==str2:\r\n",
        "    print(\"same\")\r\n",
        "  else:\r\n",
        "    print(\"Not same\")"
      ],
      "execution_count": 4,
      "outputs": []
    },
    {
      "cell_type": "markdown",
      "metadata": {
        "id": "M3TUYvx16qlf"
      },
      "source": [
        "4"
      ]
    },
    {
      "cell_type": "code",
      "metadata": {
        "colab": {
          "base_uri": "https://localhost:8080/"
        },
        "id": "Iv_Vg9WJys4S",
        "outputId": "e21b77a6-9e09-467e-8c0f-5bcfa27ed698"
      },
      "source": [
        "def search(list, platform):\r\n",
        "    for i in range(len(list)):\r\n",
        "        if list[i] == platform:\r\n",
        "            return True\r\n",
        "    return False\r\n",
        "\r\n",
        "\r\n",
        "streaming = ['netflix', 'hulu', 'disney+', 'appletv+']\r\n",
        "platform = 'netflix'\r\n",
        "\r\n",
        "if search(streaming, platform):\r\n",
        "    print(\"Platform is found\")\r\n",
        "else:\r\n",
        "    print(\"Platform does not found\")"
      ],
      "execution_count": 5,
      "outputs": [
        {
          "output_type": "stream",
          "text": [
            "Platform is found\n"
          ],
          "name": "stdout"
        }
      ]
    },
    {
      "cell_type": "markdown",
      "metadata": {
        "id": "B5ON1RLL6wyD"
      },
      "source": [
        "5"
      ]
    },
    {
      "cell_type": "code",
      "metadata": {
        "id": "0U6Xrjyby0GL"
      },
      "source": [
        "The advantages of using functions are:\r\n",
        "Reducing duplication of code.\r\n",
        "Decomposing complex problems into simpler pieces.\r\n",
        "Improving clarity of the code.\r\n",
        "Reuse of code.\r\n",
        "Information hiding."
      ],
      "execution_count": null,
      "outputs": []
    },
    {
      "cell_type": "markdown",
      "metadata": {
        "id": "4Pvgn68q61f8"
      },
      "source": [
        "6"
      ]
    },
    {
      "cell_type": "code",
      "metadata": {
        "id": "sQTTxpPHy4iD"
      },
      "source": [
        "json module in Python module provides a method called dump() which converts the Python objects into appropriate json objects. It is a slight variant of dumps() method.\r\n",
        "\r\n",
        "Difference between dump() and dumps()\r\n",
        "dump()\tdumps()\r\n",
        "The dump() method is used when the Python objects have to be stored in a file.\tThe dumps() is used when the objects are required to be in string format and is used for parsing, printing, etc, .\r\n",
        "The dump() needs the json file name in which the output has to be stored as an argument.\tThe dumps() does not require any such file name to be passed.\r\n",
        "This method writes in the memory and then command for writing to disk is executed separately\tThis method directly writes to the json file\r\n",
        "Faster method\t2 times slower\r\n",
        "dump() and its arguments\r\n",
        "Syntax: json.dump(d, skipkeys=False, ensure_ascii=True, check_circular=True, allow_nan=True, cls=None, indent=None, separators=None)"
      ],
      "execution_count": null,
      "outputs": []
    },
    {
      "cell_type": "markdown",
      "metadata": {
        "id": "IxUWIgAw62jX"
      },
      "source": [
        "7"
      ]
    },
    {
      "cell_type": "code",
      "metadata": {
        "id": "mETyTR2ezbla"
      },
      "source": [
        "def exist (file):\r\n",
        "  try:\r\n",
        "    fh=open(file,\"r\")\r\n",
        "    print(\"file is successfully opened\")\r\n",
        "  except FileNotFoundError:\r\n",
        "    print(\"Sorry!! File is not exist\")"
      ],
      "execution_count": 7,
      "outputs": []
    },
    {
      "cell_type": "markdown",
      "metadata": {
        "id": "E7-3P7WN63ea"
      },
      "source": [
        "8\r\n",
        "\r\n"
      ]
    },
    {
      "cell_type": "code",
      "metadata": {
        "id": "G96fIgw-ziSu"
      },
      "source": [
        "Exception handling ensures that the flow of the program doesn't break when an exception occurs. For example, if a program has bunch of statements and an exception occurs mid way after executing certain statements then the statements after the exception will not execute and the program will terminate abruptly."
      ],
      "execution_count": null,
      "outputs": []
    },
    {
      "cell_type": "markdown",
      "metadata": {
        "id": "xHx6G-xG64ci"
      },
      "source": [
        "9"
      ]
    },
    {
      "cell_type": "code",
      "metadata": {
        "id": "EElLSuC6zpFR"
      },
      "source": [
        "Constructors are generally used for instantiating an object. The task of constructors is to initialize(assign values) to the data members of the class when an object of class is created.In Python the __init__() method is called the constructor and is always called when an object is created."
      ],
      "execution_count": null,
      "outputs": []
    },
    {
      "cell_type": "markdown",
      "metadata": {
        "id": "X6CbWjOf66C5"
      },
      "source": [
        "9 example\r\n",
        "\r\n"
      ]
    },
    {
      "cell_type": "code",
      "metadata": {
        "colab": {
          "base_uri": "https://localhost:8080/"
        },
        "id": "ZMq-JMqgzvXw",
        "outputId": "504e23de-fba9-4480-a797-704f19657977"
      },
      "source": [
        "class DemoClass:\r\n",
        "    # constructor\r\n",
        "    def __init__(self):\r\n",
        "        # initializing instance variable\r\n",
        "        self.num=100\r\n",
        "\r\n",
        "    # a method\r\n",
        "    def read_number(self):\r\n",
        "        print(self.num)\r\n",
        "\r\n",
        "\r\n",
        "# creating object of the class. This invokes constructor\r\n",
        "obj = DemoClass()\r\n",
        "\r\n",
        "# calling the instance method using the object obj\r\n",
        "obj.read_number()"
      ],
      "execution_count": 8,
      "outputs": [
        {
          "output_type": "stream",
          "text": [
            "100\n"
          ],
          "name": "stdout"
        }
      ]
    },
    {
      "cell_type": "markdown",
      "metadata": {
        "id": "Zt1KjqiH68cU"
      },
      "source": [
        "10"
      ]
    },
    {
      "cell_type": "code",
      "metadata": {
        "id": "11tXT_rtz3aK"
      },
      "source": [
        "__init__ method\r\n",
        "\"__init__\" is a reseved method in python classes. It is called as a constructor in object oriented terminology. This method is called when an object is created from a class and it allows the class to initialize the attributes of the class"
      ],
      "execution_count": null,
      "outputs": []
    },
    {
      "cell_type": "markdown",
      "metadata": {
        "id": "z19a7SQ-6_Ls"
      },
      "source": [
        "13a"
      ]
    },
    {
      "cell_type": "code",
      "metadata": {
        "colab": {
          "base_uri": "https://localhost:8080/"
        },
        "id": "1R5W1te_5MYx",
        "outputId": "8eb0f510-cf4e-4d1c-b23a-ac59d11da819"
      },
      "source": [
        "#13 a\r\n",
        "X = [[12,7,3],\r\n",
        "    [4 ,5,6],\r\n",
        "    [7 ,8,9]]\r\n",
        "\r\n",
        "Y = [[5,8,1],\r\n",
        "    [6,7,3],\r\n",
        "    [4,5,9]]\r\n",
        "\r\n",
        "result = [[0,0,0],\r\n",
        "         [0,0,0],\r\n",
        "         [0,0,0]]\r\n",
        "for i in range(len(X)):\r\n",
        "  for j in range(len(X[0])):\r\n",
        "       result[i][j] = X[i][j] + Y[i][j]\r\n",
        "\r\n",
        "for r in result:\r\n",
        "   print(r)"
      ],
      "execution_count": 9,
      "outputs": [
        {
          "output_type": "stream",
          "text": [
            "[17, 15, 4]\n",
            "[10, 12, 9]\n",
            "[11, 13, 18]\n"
          ],
          "name": "stdout"
        }
      ]
    },
    {
      "cell_type": "markdown",
      "metadata": {
        "id": "VwDuzPrg8pd-"
      },
      "source": [
        "13b"
      ]
    },
    {
      "cell_type": "code",
      "metadata": {
        "colab": {
          "base_uri": "https://localhost:8080/"
        },
        "id": "SXKX5XzR5RSL",
        "outputId": "df60e2ce-eaac-472f-e9fa-171f439b48ad"
      },
      "source": [
        "#13 b\r\n",
        "my_str = 'aIbohPhoBiA'\r\n",
        "my_str = my_str.casefold()\r\n",
        "rev_str = reversed(my_str)\r\n",
        "if list(my_str) == list(rev_str):\r\n",
        "   print(\"The string is a palindrome.\")\r\n",
        "else:\r\n",
        "   print(\"The string is not a palindrome.\")"
      ],
      "execution_count": 10,
      "outputs": [
        {
          "output_type": "stream",
          "text": [
            "The string is a palindrome.\n"
          ],
          "name": "stdout"
        }
      ]
    },
    {
      "cell_type": "markdown",
      "metadata": {
        "id": "VYkz7d0U8t2s"
      },
      "source": [
        "16a"
      ]
    },
    {
      "cell_type": "code",
      "metadata": {
        "id": "9uGBHoDD5aG-"
      },
      "source": [
        "16 a\r\n",
        "A recursive function is a function defined in terms of itself via self-referential expressions. This means that the function will continue to call itself and repeat its behavior until some condition is met to return a result.\r\n",
        "#16 a\r\n",
        "def recur_factorial(n):\r\n",
        "   if n == 1:\r\n",
        "       return n\r\n",
        "   else:\r\n",
        "       return n*recur_factorial(n-1)\r\n",
        "num = 7\r\n",
        "if num < 0:\r\n",
        "   print(\"Sorry, factorial does not exist for negative numbers\")\r\n",
        "elif num == 0:\r\n",
        "   print(\"The factorial of 0 is 1\")\r\n",
        "else:\r\n",
        "   print(\"The factorial of\", num, \"is\", recur_factorial(num))"
      ],
      "execution_count": null,
      "outputs": []
    },
    {
      "cell_type": "markdown",
      "metadata": {
        "id": "6l4tckG58xZL"
      },
      "source": [
        "16b"
      ]
    },
    {
      "cell_type": "code",
      "metadata": {
        "colab": {
          "base_uri": "https://localhost:8080/"
        },
        "id": "MOaKBtWz5gSq",
        "outputId": "55d59834-62f4-4c62-a74b-7663dc55c94f"
      },
      "source": [
        "#16 b\r\n",
        "print(\"Input lengths of the triangle sides: \")\r\n",
        "x = int(input(\"x: \"))\r\n",
        "y = int(input(\"y: \"))\r\n",
        "z = int(input(\"z: \"))\r\n",
        "\r\n",
        "if x == y == z:\r\n",
        "\tprint(\"Equilateral triangle\")\r\n",
        "elif x==y or y==z or z==x:\r\n",
        "\tprint(\"isosceles triangle\")\r\n",
        "else:\r\n",
        "\tprint(\"Scalene triangle\")"
      ],
      "execution_count": 12,
      "outputs": [
        {
          "output_type": "stream",
          "text": [
            "Input lengths of the triangle sides: \n",
            "x: 6\n",
            "y: 4\n",
            "z: 5\n",
            "Scalene triangle\n"
          ],
          "name": "stdout"
        }
      ]
    },
    {
      "cell_type": "markdown",
      "metadata": {
        "id": "f4SDhjtK812_"
      },
      "source": [
        "17a\r\n",
        "\r\n"
      ]
    },
    {
      "cell_type": "code",
      "metadata": {
        "id": "6e7XeFz45kAe"
      },
      "source": [
        "17 a\r\n",
        "Python has many built-in exceptions that are raised when your program encounters an error (something in the program goes wrong).\r\n",
        "\r\n",
        "When these exceptions occur, the Python interpreter stops the current process and passes it to the calling process until it is handled. If not handled, the program will crash.\r\n",
        "\r\n",
        "For example, let us consider a program where we have a function A that calls function B, which in turn calls function C. If an exception occurs in function C but is not handled in C, the exception passes to B and then to A.\r\n",
        "\r\n",
        "If never handled, an error message is displayed and our program comes to a sudden unexpected halt."
      ],
      "execution_count": null,
      "outputs": []
    }
  ]
}