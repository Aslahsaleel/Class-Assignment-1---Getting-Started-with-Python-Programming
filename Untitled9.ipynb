{
  "nbformat": 4,
  "nbformat_minor": 0,
  "metadata": {
    "colab": {
      "name": "Untitled9.ipynb",
      "provenance": [],
      "authorship_tag": "ABX9TyPQ9b4+c9f3/8LEDMYzVCA+",
      "include_colab_link": true
    },
    "kernelspec": {
      "name": "python3",
      "display_name": "Python 3"
    }
  },
  "cells": [
    {
      "cell_type": "markdown",
      "metadata": {
        "id": "view-in-github",
        "colab_type": "text"
      },
      "source": [
        "<a href=\"https://colab.research.google.com/github/Aslahsaleel/Class-Assignment-1---Getting-Started-with-Python-Programming/blob/master/Untitled9.ipynb\" target=\"_parent\"><img src=\"https://colab.research.google.com/assets/colab-badge.svg\" alt=\"Open In Colab\"/></a>"
      ]
    },
    {
      "cell_type": "markdown",
      "metadata": {
        "id": "dnt1pO5ITD1_"
      },
      "source": [
        "Part A\n"
      ]
    },
    {
      "cell_type": "markdown",
      "metadata": {
        "id": "EzdGO7RwTMEw"
      },
      "source": [
        "Answer 2"
      ]
    },
    {
      "cell_type": "code",
      "metadata": {
        "id": "UbzdkUtxSQb7",
        "outputId": "e78465fd-17a5-49c8-c1dc-feaee23792c8",
        "colab": {
          "base_uri": "https://localhost:8080/"
        }
      },
      "source": [
        "pi=3.14\n",
        "radius=float(input(\"Enterthe radius\"))\n",
        "volume=4.0/3.0*pi* radius**3\n",
        "print(\"\\n The volume of a sphere=%.2f\" % volume)"
      ],
      "execution_count": 4,
      "outputs": [
        {
          "output_type": "stream",
          "text": [
            "Enterthe radius2\n",
            "\n",
            " The volume of a sphere=33.49\n"
          ],
          "name": "stdout"
        }
      ]
    },
    {
      "cell_type": "markdown",
      "metadata": {
        "id": "2bPIen0OVCii"
      },
      "source": [
        "Answer 3\n"
      ]
    },
    {
      "cell_type": "code",
      "metadata": {
        "id": "SZd2WjJdVW_P",
        "outputId": "bea82988-e7d3-4729-f44d-27495dd84a7e",
        "colab": {
          "base_uri": "https://localhost:8080/",
          "height": 128
        }
      },
      "source": [
        "num=int(input(\"Enter value of n:\"))\n",
        "sum = 0\n",
        "For n. in range (0,num+1,1):\n",
        "sum=sum+n\n",
        "print(\"Sum of first\",num,\"numbers is: \", sum)"
      ],
      "execution_count": 12,
      "outputs": [
        {
          "output_type": "error",
          "ename": "SyntaxError",
          "evalue": "ignored",
          "traceback": [
            "\u001b[0;36m  File \u001b[0;32m\"<ipython-input-12-3e46f14b408e>\"\u001b[0;36m, line \u001b[0;32m3\u001b[0m\n\u001b[0;31m    For n. in range (0,num+1,1):\u001b[0m\n\u001b[0m        ^\u001b[0m\n\u001b[0;31mSyntaxError\u001b[0m\u001b[0;31m:\u001b[0m invalid syntax\n"
          ]
        }
      ]
    },
    {
      "cell_type": "code",
      "metadata": {
        "id": "rUzwS4ppX7Yy",
        "outputId": "7110bced-4cf7-42f7-ea37-80628ae27dab",
        "colab": {
          "base_uri": "https://localhost:8080/",
          "height": 128
        }
      },
      "source": [
        "num=int(input(\"Enter value of n:\"))\n",
        "sum = 0\n",
        "i = 0\n",
        "While (i<num+1):\n",
        "sum = sum+i\n",
        "i = i+1\n",
        "print(\"Sum of first\",num,\"numbers is: \", sum)\n"
      ],
      "execution_count": 16,
      "outputs": [
        {
          "output_type": "error",
          "ename": "SyntaxError",
          "evalue": "ignored",
          "traceback": [
            "\u001b[0;36m  File \u001b[0;32m\"<ipython-input-16-d66d8748dfeb>\"\u001b[0;36m, line \u001b[0;32m4\u001b[0m\n\u001b[0;31m    While ( i< num+1 ):\u001b[0m\n\u001b[0m                       ^\u001b[0m\n\u001b[0;31mSyntaxError\u001b[0m\u001b[0;31m:\u001b[0m invalid syntax\n"
          ]
        }
      ]
    },
    {
      "cell_type": "markdown",
      "metadata": {
        "id": "EBdeptYXZlCH"
      },
      "source": [
        "Answer 4"
      ]
    },
    {
      "cell_type": "code",
      "metadata": {
        "id": "XJrbcb7JZkqR",
        "outputId": "fa38d11a-58f7-4ae2-8a44-2360461ad2b7",
        "colab": {
          "base_uri": "https://localhost:8080/"
        }
      },
      "source": [
        "square = lambda x: x **2\n",
        "print(square(3))"
      ],
      "execution_count": 17,
      "outputs": [
        {
          "output_type": "stream",
          "text": [
            "9\n"
          ],
          "name": "stdout"
        }
      ]
    },
    {
      "cell_type": "markdown",
      "metadata": {
        "id": "LyX_cBbSZ473"
      },
      "source": [
        "Part B"
      ]
    },
    {
      "cell_type": "markdown",
      "metadata": {
        "id": "Tu3yHzpHZ9p_"
      },
      "source": [
        "Answer 6"
      ]
    },
    {
      "cell_type": "code",
      "metadata": {
        "id": "woEadX0baFg9",
        "outputId": "6028a6fe-0cd6-4d9d-ceb2-fdba29a0ffce",
        "colab": {
          "base_uri": "https://localhost:8080/"
        }
      },
      "source": [
        "n=4562;\n",
        "rev=0\n",
        "while (n>0):\n",
        "  a = n % 10\n",
        "  rev=rev*10+a\n",
        "  n = n//10\n",
        "  print (rev)"
      ],
      "execution_count": 18,
      "outputs": [
        {
          "output_type": "stream",
          "text": [
            "2\n",
            "26\n",
            "265\n",
            "2654\n"
          ],
          "name": "stdout"
        }
      ]
    },
    {
      "cell_type": "code",
      "metadata": {
        "id": "2I2POLSfazke"
      },
      "source": [
        "def sum(n):\n",
        "  sum = 0\n",
        "  for digit in str(n):\n",
        "    sum += int (digit)\n",
        "    return sum\n",
        "    n=12345\n",
        "    print(sum(n))"
      ],
      "execution_count": 46,
      "outputs": []
    },
    {
      "cell_type": "code",
      "metadata": {
        "id": "l-QHNfEBcOKx"
      },
      "source": [
        "def recur_factorial(n):\n",
        "  if n == 1:\n",
        "    return n\n",
        "  else:\n",
        "        return n*recur_factorial(n-1)\n",
        "        \n",
        "\n",
        "      \n"
      ],
      "execution_count": 49,
      "outputs": []
    },
    {
      "cell_type": "code",
      "metadata": {
        "id": "UcZcZoFfd7wN",
        "outputId": "dfd53374-19a5-4452-ddcf-fc3d4c015cc7",
        "colab": {
          "base_uri": "https://localhost:8080/"
        }
      },
      "source": [
        "recur_factorial(7)"
      ],
      "execution_count": 41,
      "outputs": [
        {
          "output_type": "execute_result",
          "data": {
            "text/plain": [
              "5040"
            ]
          },
          "metadata": {
            "tags": []
          },
          "execution_count": 41
        }
      ]
    },
    {
      "cell_type": "code",
      "metadata": {
        "id": "35DWmjL-entG",
        "outputId": "2b7786c5-20b3-4836-d8dc-a52f1135f7ca",
        "colab": {
          "base_uri": "https://localhost:8080/"
        }
      },
      "source": [
        "test_str = \"Geeks for Geeks is best for Geeks\"\n",
        "test_sub = \"Geeks\"\n",
        "print(\"the original string is :\"+ test_str)\n",
        "print(\"the substring to find :\"+ test_sub)\n",
        "res=[1 for i in range(len(test_str))\n",
        "       if test_str . startswith ((test_sub),i)]\n",
        "print(\"the start indices of the substrings are :\"+ str(res))\n",
        "\n"
      ],
      "execution_count": 66,
      "outputs": [
        {
          "output_type": "stream",
          "text": [
            "the original string is :Geeks for Geeks is best for Geeks\n",
            "the substring to find :Geeks\n",
            "the start indices of the substrings are :[1, 1, 1]\n"
          ],
          "name": "stdout"
        }
      ]
    },
    {
      "cell_type": "code",
      "metadata": {
        "id": "bsCx35F_d5lA"
      },
      "source": [
        ""
      ],
      "execution_count": null,
      "outputs": []
    }
  ]
}