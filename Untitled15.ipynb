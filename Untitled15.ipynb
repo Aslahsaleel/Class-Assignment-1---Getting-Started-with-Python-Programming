{
  "nbformat": 4,
  "nbformat_minor": 0,
  "metadata": {
    "colab": {
      "name": "Untitled15.ipynb",
      "provenance": [],
      "authorship_tag": "ABX9TyMB45xl/VBKwUNR4oJtMLuO",
      "include_colab_link": true
    },
    "kernelspec": {
      "name": "python3",
      "display_name": "Python 3"
    }
  },
  "cells": [
    {
      "cell_type": "markdown",
      "metadata": {
        "id": "view-in-github",
        "colab_type": "text"
      },
      "source": [
        "<a href=\"https://colab.research.google.com/github/Aslahsaleel/Class-Assignment-1---Getting-Started-with-Python-Programming/blob/master/Untitled15.ipynb\" target=\"_parent\"><img src=\"https://colab.research.google.com/assets/colab-badge.svg\" alt=\"Open In Colab\"/></a>"
      ]
    },
    {
      "cell_type": "code",
      "metadata": {
        "colab": {
          "base_uri": "https://localhost:8080/"
        },
        "id": "Bq6M2O5NuKS1",
        "outputId": "9f657de8-e053-4d89-ee55-ad4e6fb1a3f8"
      },
      "source": [
        "b=[]\r\n",
        "for i in range(0,4):\r\n",
        "    a=int(input(\"Element: \"))\r\n",
        "    b.append(a)\r\n",
        "sum1=0\r\n",
        "sum2=0\r\n",
        "avg1=0\r\n",
        "avg2=0\r\n",
        "count1=0\r\n",
        "count2=0\r\n",
        "for j in b:\r\n",
        "    if(j>0):\r\n",
        "      \r\n",
        "      sum1=sum1+j\r\n",
        "      count1=count1+1\r\n",
        "\r\n",
        "    else:\r\n",
        "        sum2=sum2+j\r\n",
        "        count2=count2+1\r\n",
        "\r\n",
        "avg1=sum1/count1\r\n",
        "avg2=sum2/count2\r\n",
        "        \r\n",
        "print(\"Sum of all positive:\",sum1,\",Average=\",avg1)\r\n",
        "print(\"Sum of all Negative:\",sum2,\",Average=\",avg2)"
      ],
      "execution_count": 1,
      "outputs": [
        {
          "output_type": "stream",
          "text": [
            "Element: 2\n",
            "Element: 4\n",
            "Element: -2\n",
            "Element: -4\n",
            "Sum of all positive: 6 ,Average= 3.0\n",
            "Sum of all Negative: -6 ,Average= -3.0\n"
          ],
          "name": "stdout"
        }
      ]
    },
    {
      "cell_type": "code",
      "metadata": {
        "colab": {
          "base_uri": "https://localhost:8080/"
        },
        "id": "Qj5fT8FwuamU",
        "outputId": "64d1bda4-fb51-42de-a178-bc3400efbcf9"
      },
      "source": [
        "mystr= input(\"input the string\")\r\n",
        "frequencies = {} \r\n",
        "  \r\n",
        "for char in mystr: \r\n",
        "   if char in frequencies: \r\n",
        "      frequencies[char] += 1\r\n",
        "   else: \r\n",
        "      frequencies[char] = 1\r\n",
        "\r\n",
        "print (\"frequency in '{}' is :\\n {}\".format(mystr, str(frequencies)))"
      ],
      "execution_count": 2,
      "outputs": [
        {
          "output_type": "stream",
          "text": [
            "input the string2\n",
            "frequency in '2' is :\n",
            " {'2': 1}\n"
          ],
          "name": "stdout"
        }
      ]
    },
    {
      "cell_type": "code",
      "metadata": {
        "id": "UI4wYO_6u1zq"
      },
      "source": [
        "unsorted_list = [3, 1, 0, 9, 4]\r\n",
        " sorted_list=[]\r\n",
        "while unsorted_list:\r\n",
        "     minimum = unsorted_list[0]\r\n",
        "     for item in unsorted_list:\r\n",
        "           if item < minimum:\r\n",
        "              minimum = item\r\n",
        "     sorted_list.append(minimum)\r\n",
        "     unsorted_list.remove(minimum)\r\n",
        "\r\n",
        "print(sorted_list)"
      ],
      "execution_count": null,
      "outputs": []
    },
    {
      "cell_type": "code",
      "metadata": {
        "colab": {
          "base_uri": "https://localhost:8080/"
        },
        "id": "gC3N-aqcum2r",
        "outputId": "6db33f5e-1e9d-4e43-9575-edcc22c17181"
      },
      "source": [
        "def isPalindrome(a):\r\n",
        "\r\n",
        "    return a == a[::-1]\r\n",
        "\r\n",
        "a=input(\"enter the string (case sensitive) :\")\r\n",
        "\r\n",
        "ans =  isPalindrome(a)\r\n",
        "\r\n",
        "\r\n",
        "if ans:\r\n",
        "\r\n",
        "    print(\"Yes, it is palindrome\")\r\n",
        "\r\n",
        "else:\r\n",
        "\r\n",
        "    print(\"No, it is not palindrome\")"
      ],
      "execution_count": 3,
      "outputs": [
        {
          "output_type": "stream",
          "text": [
            "enter the string (case sensitive) :6\n",
            "Yes, it is palindrome\n"
          ],
          "name": "stdout"
        }
      ]
    },
    {
      "cell_type": "code",
      "metadata": {
        "colab": {
          "base_uri": "https://localhost:8080/"
        },
        "id": "iq_-oaIPvBPz",
        "outputId": "2b29da23-baae-4ce1-966b-da8a869b8cfb"
      },
      "source": [
        "import math\r\n",
        "def fact(k):\r\n",
        "   if k<=1:\r\n",
        "     return 1\r\n",
        "   else:\r\n",
        "     return k* fact(k-1)\r\n",
        "\r\n",
        "step=int(input(\"enter the no of terms\"))\r\n",
        "x=int(input(\"enter the value of x\"))\r\n",
        "sum=0\r\n",
        "for i in range(step+1):\r\n",
        "   sum+=(math.pow(-1,i)*math.pow(x,2*i+1))/fact(2*i+1)\r\n",
        "print(\"The result of sin(\",step,\")\",sum)"
      ],
      "execution_count": 5,
      "outputs": [
        {
          "output_type": "stream",
          "text": [
            "enter the no of terms5\n",
            "enter the value of x3\n",
            "The result of sin( 5 ) 0.14087459415584405\n"
          ],
          "name": "stdout"
        }
      ]
    },
    {
      "cell_type": "code",
      "metadata": {
        "colab": {
          "base_uri": "https://localhost:8080/"
        },
        "id": "plfpvdEBvVy0",
        "outputId": "6905df2f-31e3-4715-cc49-7c73f30c52fa"
      },
      "source": [
        "password=input(\"Enter the password\")\r\n",
        "upper=False\r\n",
        "lower=False\r\n",
        "number=False\r\n",
        "special=False\r\n",
        "num=['0','1','2','3','4','5','6','7','8','9']\r\n",
        "\r\n",
        "if len(password)<6:\r\n",
        "   print(\"Password length is too short, minimum length should 6\")\r\n",
        "else:\r\n",
        "   for i in password:\r\n",
        "      if i.isupper()==True:\r\n",
        "         upper=True\r\n",
        "      elif i in num:\r\n",
        "         number=True\r\n",
        "      elif i.islower()==True:\r\n",
        "         lower=True\r\n",
        "      elif i==\"$\" or i==\"#\" or i==\"@\":\r\n",
        "         special=True\r\n",
        "if upper==True and lower==True and number==True and special==True:\r\n",
        "   print(\"Password accepted\")\r\n",
        "else:\r\n",
        "   print(\"Password not accepted\")"
      ],
      "execution_count": 7,
      "outputs": [
        {
          "output_type": "stream",
          "text": [
            "Enter the passwordAslahsaleel \n",
            "Password not accepted\n"
          ],
          "name": "stdout"
        }
      ]
    }
  ]
}