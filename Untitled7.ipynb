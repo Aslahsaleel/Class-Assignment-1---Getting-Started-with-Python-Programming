{
  "nbformat": 4,
  "nbformat_minor": 0,
  "metadata": {
    "colab": {
      "name": "Untitled7.ipynb",
      "provenance": [],
      "authorship_tag": "ABX9TyO+rurfvOoukXZ9PoRwP7gr",
      "include_colab_link": true
    },
    "kernelspec": {
      "name": "python3",
      "display_name": "Python 3"
    }
  },
  "cells": [
    {
      "cell_type": "markdown",
      "metadata": {
        "id": "view-in-github",
        "colab_type": "text"
      },
      "source": [
        "<a href=\"https://colab.research.google.com/github/Aslahsaleel/Class-Assignment-1---Getting-Started-with-Python-Programming/blob/master/Untitled7.ipynb\" target=\"_parent\"><img src=\"https://colab.research.google.com/assets/colab-badge.svg\" alt=\"Open In Colab\"/></a>"
      ]
    },
    {
      "cell_type": "markdown",
      "metadata": {
        "id": "wW3OIIXWv_-_"
      },
      "source": [
        "Answer 1"
      ]
    },
    {
      "cell_type": "code",
      "metadata": {
        "id": "5utei1W9mVRL"
      },
      "source": [
        "def CountLetters (str, letter):\n",
        "  count=0\n",
        "  index=0\n",
        "  while index<len(str):\n",
        "    if letter==str[index]:\n",
        "      count=count+1\n",
        "    \n",
        "    index=index+1\n",
        "  return count"
      ],
      "execution_count": 7,
      "outputs": []
    },
    {
      "cell_type": "code",
      "metadata": {
        "id": "6MyJZCuHpi41",
        "outputId": "01b595ca-5c41-4c91-ea4c-2c461362aa7a",
        "colab": {
          "base_uri": "https://localhost:8080/",
          "height": 34
        }
      },
      "source": [
        "CountLetters (\"Apple\",\"p\")"
      ],
      "execution_count": 8,
      "outputs": [
        {
          "output_type": "execute_result",
          "data": {
            "text/plain": [
              "2"
            ]
          },
          "metadata": {
            "tags": []
          },
          "execution_count": 8
        }
      ]
    },
    {
      "cell_type": "code",
      "metadata": {
        "id": "Wu-7KmR1skfk",
        "outputId": "db5a4867-6e75-4706-d214-089c1e038dbf",
        "colab": {
          "base_uri": "https://localhost:8080/",
          "height": 34
        }
      },
      "source": [
        "CountLetters (\"machine\",\"a\")"
      ],
      "execution_count": 10,
      "outputs": [
        {
          "output_type": "execute_result",
          "data": {
            "text/plain": [
              "1"
            ]
          },
          "metadata": {
            "tags": []
          },
          "execution_count": 10
        }
      ]
    },
    {
      "cell_type": "code",
      "metadata": {
        "id": "E3GK5gA_t5fj",
        "outputId": "5d4c9f6a-8efe-4ed4-afdd-7f2e467be964",
        "colab": {
          "base_uri": "https://localhost:8080/",
          "height": 34
        }
      },
      "source": [
        "CountLetters (\"Malayalam\",\"a\")"
      ],
      "execution_count": 11,
      "outputs": [
        {
          "output_type": "execute_result",
          "data": {
            "text/plain": [
              "4"
            ]
          },
          "metadata": {
            "tags": []
          },
          "execution_count": 11
        }
      ]
    },
    {
      "cell_type": "code",
      "metadata": {
        "id": "cwhW-CRluHUN",
        "outputId": "7d975a1c-d0d4-4967-e50f-911d06ef4c62",
        "colab": {
          "base_uri": "https://localhost:8080/",
          "height": 34
        }
      },
      "source": [
        "CountLetters (\"India\",\"I\")"
      ],
      "execution_count": 13,
      "outputs": [
        {
          "output_type": "execute_result",
          "data": {
            "text/plain": [
              "1"
            ]
          },
          "metadata": {
            "tags": []
          },
          "execution_count": 13
        }
      ]
    },
    {
      "cell_type": "markdown",
      "metadata": {
        "id": "iciztxK1wV5x"
      },
      "source": [
        "Answer 2"
      ]
    },
    {
      "cell_type": "code",
      "metadata": {
        "id": "YOMuNVo8wdpn"
      },
      "source": [
        "\n",
        "def find(str, ch,index):\n",
        "  #\n",
        "  while index < len(str):\n",
        "    if str[index] == ch:\n",
        "      return index\n",
        "    index = index + 1\n",
        "  return -1"
      ],
      "execution_count": 14,
      "outputs": []
    },
    {
      "cell_type": "code",
      "metadata": {
        "id": "BHTAA3HSwqGx",
        "outputId": "5ef279b4-de32-4ac6-ddfc-f302d2fe6f59",
        "colab": {
          "base_uri": "https://localhost:8080/",
          "height": 34
        }
      },
      "source": [
        "find('apple','p',3)"
      ],
      "execution_count": 15,
      "outputs": [
        {
          "output_type": "execute_result",
          "data": {
            "text/plain": [
              "-1"
            ]
          },
          "metadata": {
            "tags": []
          },
          "execution_count": 15
        }
      ]
    },
    {
      "cell_type": "code",
      "metadata": {
        "id": "bO0uW1NKwwIi",
        "outputId": "9aa8ec77-7fc6-4640-f9d6-a6501c30a097",
        "colab": {
          "base_uri": "https://localhost:8080/",
          "height": 34
        }
      },
      "source": [
        "find('apple','l',1)"
      ],
      "execution_count": 16,
      "outputs": [
        {
          "output_type": "execute_result",
          "data": {
            "text/plain": [
              "3"
            ]
          },
          "metadata": {
            "tags": []
          },
          "execution_count": 16
        }
      ]
    },
    {
      "cell_type": "code",
      "metadata": {
        "id": "iDbNqWO8w0qo",
        "outputId": "faed4c27-a6fe-4067-f63a-2e8ce4f1dba8",
        "colab": {
          "base_uri": "https://localhost:8080/",
          "height": 34
        }
      },
      "source": [
        "\n",
        "find('apple','l',3)"
      ],
      "execution_count": 17,
      "outputs": [
        {
          "output_type": "execute_result",
          "data": {
            "text/plain": [
              "3"
            ]
          },
          "metadata": {
            "tags": []
          },
          "execution_count": 17
        }
      ]
    },
    {
      "cell_type": "code",
      "metadata": {
        "id": "kyRpyiVgw3An",
        "outputId": "df1934a4-6be0-4427-b3fe-fd9d5be6366a",
        "colab": {
          "base_uri": "https://localhost:8080/",
          "height": 34
        }
      },
      "source": [
        "find('apple','l',4)"
      ],
      "execution_count": 18,
      "outputs": [
        {
          "output_type": "execute_result",
          "data": {
            "text/plain": [
              "-1"
            ]
          },
          "metadata": {
            "tags": []
          },
          "execution_count": 18
        }
      ]
    }
  ]
}