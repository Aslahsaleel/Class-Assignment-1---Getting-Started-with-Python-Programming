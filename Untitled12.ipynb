{
  "nbformat": 4,
  "nbformat_minor": 0,
  "metadata": {
    "colab": {
      "name": "Untitled12.ipynb",
      "provenance": [],
      "authorship_tag": "ABX9TyOcT1OEn9Jan+sjqfsRsgfF",
      "include_colab_link": true
    },
    "kernelspec": {
      "name": "python3",
      "display_name": "Python 3"
    }
  },
  "cells": [
    {
      "cell_type": "markdown",
      "metadata": {
        "id": "view-in-github",
        "colab_type": "text"
      },
      "source": [
        "<a href=\"https://colab.research.google.com/github/Aslahsaleel/Class-Assignment-1---Getting-Started-with-Python-Programming/blob/master/Untitled12.ipynb\" target=\"_parent\"><img src=\"https://colab.research.google.com/assets/colab-badge.svg\" alt=\"Open In Colab\"/></a>"
      ]
    },
    {
      "cell_type": "code",
      "metadata": {
        "colab": {
          "base_uri": "https://localhost:8080/"
        },
        "id": "0ht-v4dmxhiG",
        "outputId": "931ae1e2-1846-4825-aa43-727ee21db6a4"
      },
      "source": [
        "import math  \r\n",
        "\r\n",
        "    \r\n",
        "\r\n",
        "x = 5\r\n",
        "\r\n",
        "    \r\n",
        "# returning the factorial \r\n",
        "\r\n",
        "print (\"The factorial of 5 is : \", end =\"\")  \r\n",
        "\r\n",
        "print (math.factorial(x))"
      ],
      "execution_count": 1,
      "outputs": [
        {
          "output_type": "stream",
          "text": [
            "The factorial of 5 is : 120\n"
          ],
          "name": "stdout"
        }
      ]
    },
    {
      "cell_type": "code",
      "metadata": {
        "id": "sr0FX1UCxxmY"
      },
      "source": [
        "def factorial (n):\r\n",
        "    if n<0:\r\n",
        "       return 0\r\n",
        "    elif n == 0 or n== 1:\r\n",
        "       return 1\r\n",
        "    else:\r\n",
        "       fact = 1\r\n",
        "       while(n>1):\r\n",
        "          fact *=n\r\n",
        "          n -= 1\r\n",
        "       return fact"
      ],
      "execution_count": 2,
      "outputs": []
    }
  ]
}