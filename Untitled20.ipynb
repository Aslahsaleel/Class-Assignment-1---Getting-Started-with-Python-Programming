{
  "nbformat": 4,
  "nbformat_minor": 0,
  "metadata": {
    "colab": {
      "name": "Untitled20.ipynb",
      "provenance": [],
      "authorship_tag": "ABX9TyNjlavJ5sZEwIS9j2u66KrC",
      "include_colab_link": true
    },
    "kernelspec": {
      "name": "python3",
      "display_name": "Python 3"
    }
  },
  "cells": [
    {
      "cell_type": "markdown",
      "metadata": {
        "id": "view-in-github",
        "colab_type": "text"
      },
      "source": [
        "<a href=\"https://colab.research.google.com/github/Aslahsaleel/Class-Assignment-1---Getting-Started-with-Python-Programming/blob/master/Untitled20.ipynb\" target=\"_parent\"><img src=\"https://colab.research.google.com/assets/colab-badge.svg\" alt=\"Open In Colab\"/></a>"
      ]
    },
    {
      "cell_type": "code",
      "metadata": {
        "colab": {
          "base_uri": "https://localhost:8080/"
        },
        "id": "K5cp4gZh7iUy",
        "outputId": "20d4c7cc-0001-4503-b835-3ed2cea67a48"
      },
      "source": [
        "n=int(input(\"Enter the number of elements: \"))\r\n",
        "a=[]\r\n",
        "for i in range(0,n):\r\n",
        "    element=int(input(\"Enter element: \"))\r\n",
        "    a.append(element)\r\n",
        "avg=sum(a)/n\r\n",
        "print(\"Average of elements in the list\",round(avg,2))"
      ],
      "execution_count": null,
      "outputs": [
        {
          "output_type": "stream",
          "text": [
            "Enter the number of elements: 5\n",
            "Enter element: 3\n",
            "Enter element: 2\n",
            "Enter element: 5\n",
            "Enter element: 6\n",
            "Enter element: 4\n",
            "Average of elements in the list 4.0\n"
          ],
          "name": "stdout"
        }
      ]
    },
    {
      "cell_type": "code",
      "metadata": {
        "colab": {
          "base_uri": "https://localhost:8080/"
        },
        "id": "fJosO1RU776O",
        "outputId": "4985d5ce-3e6a-481a-fb23-721279da6841"
      },
      "source": [
        "my_list = ['a', 'b','c']\r\n",
        "n = 3\r\n",
        "new_list = ['{}{}'.format(x, y) for y in range(1, n+1) for x in my_list]\r\n",
        "print(new_list)"
      ],
      "execution_count": null,
      "outputs": [
        {
          "output_type": "stream",
          "text": [
            "['a1', 'b1', 'c1', 'a2', 'b2', 'c2', 'a3', 'b3', 'c3']\n"
          ],
          "name": "stdout"
        }
      ]
    },
    {
      "cell_type": "code",
      "metadata": {
        "id": "2DM2VYmMP1Qx"
      },
      "source": [
        ""
      ],
      "execution_count": null,
      "outputs": []
    },
    {
      "cell_type": "code",
      "metadata": {
        "colab": {
          "base_uri": "https://localhost:8080/"
        },
        "id": "D5qDi_xK8UaV",
        "outputId": "59722785-9115-44c7-c6e5-0fd9daf8d1e1"
      },
      "source": [
        "def Frequency(my_list): \r\n",
        "\r\n",
        "      \r\n",
        "\r\n",
        "   \r\n",
        "\r\n",
        "    freq = {} \r\n",
        "\r\n",
        "    for items in my_list: \r\n",
        "\r\n",
        "        freq[items] = my_list.count(items) \r\n",
        "\r\n",
        "      \r\n",
        "\r\n",
        "    for key, value in freq.items(): \r\n",
        "\r\n",
        "        print (\"% d : % d\"%(key, value)) \r\n",
        "\r\n",
        "  \r\n",
        "\r\n",
        "\r\n",
        "if __name__ == \"__main__\":  \r\n",
        "\r\n",
        "    my_list =[1, 1,3 , 3,4,6,5, 5, 3, 1, 4, 7, 4, 2, 2, 9,9,9 ,2] \r\n",
        "\r\n",
        "    Frequency(my_list)"
      ],
      "execution_count": null,
      "outputs": [
        {
          "output_type": "stream",
          "text": [
            " 1 :  3\n",
            " 3 :  3\n",
            " 4 :  3\n",
            " 6 :  1\n",
            " 5 :  2\n",
            " 7 :  1\n",
            " 2 :  3\n",
            " 9 :  3\n"
          ],
          "name": "stdout"
        }
      ]
    },
    {
      "cell_type": "code",
      "metadata": {
        "colab": {
          "base_uri": "https://localhost:8080/"
        },
        "id": "OQx7pWDvH1HS",
        "outputId": "a5c32ff6-0bd0-4188-ceae-d00f36648763"
      },
      "source": [
        "list1 = [10, 20, 4, 45, 99]\r\n",
        "\r\n",
        "list1.sort()\r\n",
        "\r\n",
        "print(\"Second largest element is:\", list1[-2])"
      ],
      "execution_count": null,
      "outputs": [
        {
          "output_type": "stream",
          "text": [
            "Second largest element is: 45\n"
          ],
          "name": "stdout"
        }
      ]
    },
    {
      "cell_type": "code",
      "metadata": {
        "colab": {
          "base_uri": "https://localhost:8080/"
        },
        "id": "y05h_sjNIQIn",
        "outputId": "a68c20c2-762c-44f8-8ea7-0f1f7add67a7"
      },
      "source": [
        "def countelements(list1, l, r): \r\n",
        "\r\n",
        "    count = 0 \r\n",
        "\r\n",
        "    \r\n",
        "\r\n",
        "    for x in list1: \r\n",
        "\r\n",
        "        \r\n",
        "\r\n",
        "        if x>= l and x<= r: \r\n",
        "\r\n",
        "            count+= 1 \r\n",
        "\r\n",
        "    return count\r\n",
        "\r\n",
        "      \r\n",
        "\r\n",
        "\r\n",
        "list1 = [1, 2, 3, 4, 5, 4, 4, 6, 7] \r\n",
        "\r\n",
        "l = 4\r\n",
        "\r\n",
        "r = 8\r\n",
        "\r\n",
        "print(countelements(list1, l, r))"
      ],
      "execution_count": null,
      "outputs": [
        {
          "output_type": "stream",
          "text": [
            "6\n"
          ],
          "name": "stdout"
        }
      ]
    },
    {
      "cell_type": "code",
      "metadata": {
        "colab": {
          "base_uri": "https://localhost:8080/"
        },
        "id": "SdWaQH-KIZjs",
        "outputId": "9a2c1a8c-27cc-4a37-c5cb-869d1f7ddfa5"
      },
      "source": [
        "list1 = [10, 20, 4, 45, 99]\r\n",
        "\r\n",
        "list1.sort()\r\n",
        "\r\n",
        "print(\"Second smallest element is:\", list1[1])"
      ],
      "execution_count": null,
      "outputs": [
        {
          "output_type": "stream",
          "text": [
            "Second smallest element is: 10\n"
          ],
          "name": "stdout"
        }
      ]
    }
  ]
}