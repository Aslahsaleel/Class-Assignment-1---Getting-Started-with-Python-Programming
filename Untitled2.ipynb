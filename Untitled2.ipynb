{
  "nbformat": 4,
  "nbformat_minor": 0,
  "metadata": {
    "colab": {
      "name": "Untitled2.ipynb",
      "provenance": [],
      "authorship_tag": "ABX9TyPmW6CpjRyU1TvaQhFmZ5aO",
      "include_colab_link": true
    },
    "kernelspec": {
      "name": "python3",
      "display_name": "Python 3"
    }
  },
  "cells": [
    {
      "cell_type": "markdown",
      "metadata": {
        "id": "view-in-github",
        "colab_type": "text"
      },
      "source": [
        "<a href=\"https://colab.research.google.com/github/Aslahsaleel/Class-Assignment-1---Getting-Started-with-Python-Programming/blob/master/Untitled2.ipynb\" target=\"_parent\"><img src=\"https://colab.research.google.com/assets/colab-badge.svg\" alt=\"Open In Colab\"/></a>"
      ]
    },
    {
      "cell_type": "code",
      "metadata": {
        "id": "cztnauC7bxoL",
        "colab_type": "code",
        "colab": {
          "base_uri": "https://localhost:8080/",
          "height": 67
        },
        "outputId": "6dd58294-de0b-4673-8059-d2c98de1acbd"
      },
      "source": [
        "#question 1\n",
        "print('Name:Aslah Saleel')\n",
        "print('Address:Chanathumadu,Pallikkal')\n",
        "print('Telephone No. : 8138814828')"
      ],
      "execution_count": 4,
      "outputs": [
        {
          "output_type": "stream",
          "text": [
            "Name:Aslah Saleel\n",
            "Address:Chanathumadu,Pallikkal\n",
            "Telephone No. : 8138814828\n"
          ],
          "name": "stdout"
        }
      ]
    },
    {
      "cell_type": "code",
      "metadata": {
        "id": "6e7mf6L2b2Ct",
        "colab_type": "code",
        "colab": {
          "base_uri": "https://localhost:8080/",
          "height": 50
        },
        "outputId": "b109aa72-ce98-4314-c07b-a02cf5e18587"
      },
      "source": [
        "#quesnotion 2\n",
        "name=input('Enter your name :')\n",
        "print('your name is ',name)"
      ],
      "execution_count": 8,
      "outputs": [
        {
          "output_type": "stream",
          "text": [
            "Enter your name :aslah\n",
            "your name is  aslah\n"
          ],
          "name": "stdout"
        }
      ]
    },
    {
      "cell_type": "code",
      "metadata": {
        "id": "R7Fkng2ib2JU",
        "colab_type": "code",
        "colab": {
          "base_uri": "https://localhost:8080/",
          "height": 67
        },
        "outputId": "435a28b0-a7f7-49f3-c137-709f9b914da0"
      },
      "source": [
        "#question 3\n",
        "length=float(input('Enter the length of rectangle :',))\n",
        "breadth=float(input('Enter the breadth of rectangle :',))\n",
        "area=length*breadth\n",
        "print('Area of rectangle :',area)"
      ],
      "execution_count": 7,
      "outputs": [
        {
          "output_type": "stream",
          "text": [
            "Enter the length of rectangle :6\n",
            "Enter the breadth of rectangle :5\n",
            "Area of rectangle : 30.0\n"
          ],
          "name": "stdout"
        }
      ]
    },
    {
      "cell_type": "code",
      "metadata": {
        "id": "tkdznVrTcFA8",
        "colab_type": "code",
        "colab": {
          "base_uri": "https://localhost:8080/",
          "height": 67
        },
        "outputId": "857c4123-e9b3-4faf-f0f5-decaa20fa96b"
      },
      "source": [
        "#question 4\n",
        "base=float(input('Enter the height of triangle :'))\n",
        "height=float(input('Enter the base of triangle :'))\n",
        "area=.5*base*height\n",
        "print('Area of triangle is :',area)"
      ],
      "execution_count": 6,
      "outputs": [
        {
          "output_type": "stream",
          "text": [
            "Enter the height of triangle :5\n",
            "Enter the base of triangle :5\n",
            "Area of triangle is : 12.5\n"
          ],
          "name": "stdout"
        }
      ]
    },
    {
      "cell_type": "code",
      "metadata": {
        "id": "eEu4_74jcFHQ",
        "colab_type": "code",
        "colab": {
          "base_uri": "https://localhost:8080/",
          "height": 50
        },
        "outputId": "c8d4064a-67d3-489a-97c6-ffe4778d4664"
      },
      "source": [
        "#queation 5\n",
        "radius=float(input('Enter the radius of the circle :'))\n",
        "area=3.14*radius**2\n",
        "print('The area of circle is :',area)"
      ],
      "execution_count": 3,
      "outputs": [
        {
          "output_type": "stream",
          "text": [
            "Enter the radius of the circle :5\n",
            "The area of circle is : 78.5\n"
          ],
          "name": "stdout"
        }
      ]
    },
    {
      "cell_type": "code",
      "metadata": {
        "id": "FcdwO3NocFO3",
        "colab_type": "code",
        "colab": {
          "base_uri": "https://localhost:8080/",
          "height": 67
        },
        "outputId": "e348a988-b11b-4edb-ab74-94521ff984ff"
      },
      "source": [
        "#question 6\n",
        "name=input('Enter your name :')\n",
        "age=input('Enter your age :')\n",
        "print('Name :',name,'age :',age)"
      ],
      "execution_count": 5,
      "outputs": [
        {
          "output_type": "stream",
          "text": [
            "Enter your name :aslah\n",
            "Enter your age :19\n",
            "Name : aslah age : 19\n"
          ],
          "name": "stdout"
        }
      ]
    },
    {
      "cell_type": "code",
      "metadata": {
        "id": "W34p45GScFVr",
        "colab_type": "code",
        "colab": {
          "base_uri": "https://localhost:8080/",
          "height": 50
        },
        "outputId": "ccedf2f4-7b50-4541-9654-9ed13e8211df"
      },
      "source": [
        "#question 7\n",
        "number=float(input('Enter a number :'))\n",
        "number=number+1\n",
        "print('one is added to number',number)"
      ],
      "execution_count": 2,
      "outputs": [
        {
          "output_type": "stream",
          "text": [
            "Enter a number :2\n",
            "one is added to number 3.0\n"
          ],
          "name": "stdout"
        }
      ]
    },
    {
      "cell_type": "code",
      "metadata": {
        "id": "g8dx7MVpcSgk",
        "colab_type": "code",
        "colab": {
          "base_uri": "https://localhost:8080/",
          "height": 50
        },
        "outputId": "9baa7d00-945d-4a2d-f30b-995d3fca731e"
      },
      "source": [
        "#question 8\n",
        "name=input('Enter first name :')\n",
        "print('First name is :',name)\n"
      ],
      "execution_count": 1,
      "outputs": [
        {
          "output_type": "stream",
          "text": [
            "Enter first name :aslah\n",
            "First name is : aslah\n"
          ],
          "name": "stdout"
        }
      ]
    }
  ]
}