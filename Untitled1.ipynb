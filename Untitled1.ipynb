{
  "nbformat": 4,
  "nbformat_minor": 0,
  "metadata": {
    "colab": {
      "name": "Untitled1.ipynb",
      "provenance": [],
      "collapsed_sections": [],
      "authorship_tag": "ABX9TyOeR2zrApUmgPXUJmhZfYLj",
      "include_colab_link": true
    },
    "kernelspec": {
      "name": "python3",
      "display_name": "Python 3"
    }
  },
  "cells": [
    {
      "cell_type": "markdown",
      "metadata": {
        "id": "view-in-github",
        "colab_type": "text"
      },
      "source": [
        "<a href=\"https://colab.research.google.com/github/Aslahsaleel/Class-Assignment-1---Getting-Started-with-Python-Programming/blob/master/Untitled1.ipynb\" target=\"_parent\"><img src=\"https://colab.research.google.com/assets/colab-badge.svg\" alt=\"Open In Colab\"/></a>"
      ]
    },
    {
      "cell_type": "code",
      "metadata": {
        "id": "6GlE6ZWH6zag",
        "colab_type": "code",
        "colab": {
          "base_uri": "https://localhost:8080/",
          "height": 71
        },
        "outputId": "ef6c3647-d90b-4727-e131-127a76361996"
      },
      "source": [
        "#question 1\n",
        "print('Name:Aslah Saleel')\n",
        "print('Address:Chanathumadu,Pallikkal')\n",
        "print('Telephone No. : 8138814828')"
      ],
      "execution_count": null,
      "outputs": [
        {
          "output_type": "stream",
          "text": [
            "Name:Aslah Saleel\n",
            "Address:Chanathumadu,Pallikkal\n",
            "Telephone No. : 8138814828\n"
          ],
          "name": "stdout"
        }
      ]
    },
    {
      "cell_type": "code",
      "metadata": {
        "id": "PGC0-4RC-Ull",
        "colab_type": "code",
        "colab": {
          "base_uri": "https://localhost:8080/",
          "height": 71
        },
        "outputId": "661d98e3-295b-4604-8455-3c2ad0b92492"
      },
      "source": [
        "#question 3\n",
        "length=float(input('Enter the length of rectangle :',))\n",
        "breadth=float(input('Enter the breadth of rectangle :',))\n",
        "area=length*breadth\n",
        "print('Area of rectangle :',area)"
      ],
      "execution_count": null,
      "outputs": [
        {
          "output_type": "stream",
          "text": [
            "Enter the length of rectangle :5\n",
            "Enter the breadth of rectangle :3\n",
            "Area of rectangle : 15.0\n"
          ],
          "name": "stdout"
        }
      ]
    },
    {
      "cell_type": "code",
      "metadata": {
        "id": "9rERuFTr8_UY",
        "colab_type": "code",
        "colab": {
          "base_uri": "https://localhost:8080/",
          "height": 53
        },
        "outputId": "ca5c79a2-23ac-4ed9-daa3-3ea1c97addd0"
      },
      "source": [
        "#quesnotion 2\n",
        "name=input('Enter your name :')\n",
        "print('your name is ',name)"
      ],
      "execution_count": null,
      "outputs": [
        {
          "output_type": "stream",
          "text": [
            "Enter your name :Aslah Saleel\n",
            "your name is  Aslah Saleel\n"
          ],
          "name": "stdout"
        }
      ]
    },
    {
      "cell_type": "code",
      "metadata": {
        "id": "ntVY4wBuN8nX",
        "colab_type": "code",
        "colab": {
          "base_uri": "https://localhost:8080/",
          "height": 71
        },
        "outputId": "72a59d8b-0f68-4a13-d889-0d0fcd3528a5"
      },
      "source": [
        "#question 4\n",
        "base=float(input('Enter the height of triangle :'))\n",
        "height=float(input('Enter the base of triangle :'))\n",
        "area=.5*base*height\n",
        "print('Area of triangle is :',area)"
      ],
      "execution_count": null,
      "outputs": [
        {
          "output_type": "stream",
          "text": [
            "Enter the height of triangle :5\n",
            "Enter the base of triangle :2\n",
            "Area of triangle is : 5.0\n"
          ],
          "name": "stdout"
        }
      ]
    },
    {
      "cell_type": "code",
      "metadata": {
        "id": "-193i11GPveY",
        "colab_type": "code",
        "colab": {
          "base_uri": "https://localhost:8080/",
          "height": 53
        },
        "outputId": "c014f041-4d77-4f6e-83ea-f0555ea67302"
      },
      "source": [
        "#queation 5\n",
        "radius=float(input('Enter the radius of the circle :'))\n",
        "area=3.14*radius**2\n",
        "print('The area of circle is :',area)"
      ],
      "execution_count": null,
      "outputs": [
        {
          "output_type": "stream",
          "text": [
            "Enter the radius of the circle :15\n",
            "The area of circle is : 706.5\n"
          ],
          "name": "stdout"
        }
      ]
    },
    {
      "cell_type": "code",
      "metadata": {
        "id": "mgt0cpFeQsOr",
        "colab_type": "code",
        "colab": {
          "base_uri": "https://localhost:8080/",
          "height": 71
        },
        "outputId": "59c859f2-bcad-4fd5-d448-ff1e346682b7"
      },
      "source": [
        "#question 6\n",
        "name=input('Enter your name :')\n",
        "age=input('Enter your age :')\n",
        "print('Name :',name,'age :',age)"
      ],
      "execution_count": null,
      "outputs": [
        {
          "output_type": "stream",
          "text": [
            "Enter your name :Aslah Saleel\n",
            "Enter your age :20\n",
            "Name : Aslah Saleel age : 20\n"
          ],
          "name": "stdout"
        }
      ]
    },
    {
      "cell_type": "code",
      "metadata": {
        "id": "aVYA6IZvSWmF",
        "colab_type": "code",
        "colab": {
          "base_uri": "https://localhost:8080/",
          "height": 53
        },
        "outputId": "efe1f334-7800-4ec3-9a45-00b054ea19f0"
      },
      "source": [
        "#question 7\n",
        "number=float(input('Enter a number :'))\n",
        "number=number+1\n",
        "print('one is added to number',number)"
      ],
      "execution_count": null,
      "outputs": [
        {
          "output_type": "stream",
          "text": [
            "Enter a number :6\n",
            "one is added to number 7.0\n"
          ],
          "name": "stdout"
        }
      ]
    },
    {
      "cell_type": "code",
      "metadata": {
        "id": "-x3pmpICTTRk",
        "colab_type": "code",
        "colab": {
          "base_uri": "https://localhost:8080/",
          "height": 53
        },
        "outputId": "4d85453f-4095-4bd5-dc03-f434f78df463"
      },
      "source": [
        "#question 8\n",
        "name=input('Enter first name :')\n",
        "print('First name is :',name)\n",
        "\n"
      ],
      "execution_count": null,
      "outputs": [
        {
          "output_type": "stream",
          "text": [
            "Enter first name :Aslah\n",
            "First name is : Aslah\n"
          ],
          "name": "stdout"
        }
      ]
    }
  ]
}